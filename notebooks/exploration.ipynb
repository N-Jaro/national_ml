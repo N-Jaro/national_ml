{
 "cells": [
  {
   "cell_type": "code",
   "execution_count": 2,
   "metadata": {},
   "outputs": [
    {
     "name": "stdout",
     "output_type": "stream",
     "text": [
      "Python version: 3.11.11\n",
      "PyTorch version: 2.6.0+cu124\n",
      "CUDA available: True\n",
      "Number of GPUs available: 2\n",
      "--- GPU 0 ---\n",
      "GPU Name: NVIDIA H100 80GB HBM3\n",
      "Compute Capability: (9, 0)\n",
      "--- GPU 1 ---\n",
      "GPU Name: NVIDIA H100 80GB HBM3\n",
      "Compute Capability: (9, 0)\n",
      "\n",
      "Tensor on CPU:\n",
      "tensor([[0.1277, 0.2973, 0.4960],\n",
      "        [0.2829, 0.2997, 0.1774],\n",
      "        [0.9024, 0.3974, 0.6051]])\n",
      "\n",
      "Tensor on GPU:\n",
      "tensor([[0.1277, 0.2973, 0.4960],\n",
      "        [0.2829, 0.2997, 0.1774],\n",
      "        [0.9024, 0.3974, 0.6051]], device='cuda:0')\n",
      "Tensor device: cuda:0\n"
     ]
    }
   ],
   "source": [
    "import torch\n",
    "import platform\n",
    "\n",
    "print(f\"Python version: {platform.python_version()}\")\n",
    "print(f\"PyTorch version: {torch.__version__}\")\n",
    "\n",
    "cuda_available = torch.cuda.is_available()\n",
    "print(f\"CUDA available: {cuda_available}\")\n",
    "\n",
    "if cuda_available:\n",
    "    gpu_count = torch.cuda.device_count()\n",
    "    print(f\"Number of GPUs available: {gpu_count}\")\n",
    "    # Print details for each GPU\n",
    "    for i in range(gpu_count):\n",
    "        print(f\"--- GPU {i} ---\")\n",
    "        print(f\"GPU Name: {torch.cuda.get_device_name(i)}\")\n",
    "        print(f\"Compute Capability: {torch.cuda.get_device_capability(i)}\")\n",
    "        # You can add more properties if needed\n",
    "\n",
    "    # Simple test: Create a tensor and move it to GPU 0\n",
    "    try:\n",
    "        device = torch.device(\"cuda:0\") # Use GPU 0\n",
    "        tensor_cpu = torch.rand(3, 3)\n",
    "        print(\"\\nTensor on CPU:\")\n",
    "        print(tensor_cpu)\n",
    "\n",
    "        tensor_gpu = tensor_cpu.to(device)\n",
    "        print(\"\\nTensor on GPU:\")\n",
    "        print(tensor_gpu)\n",
    "        print(f\"Tensor device: {tensor_gpu.device}\")\n",
    "    except Exception as e:\n",
    "        print(f\"\\nError during GPU operation: {e}\")\n",
    "else:\n",
    "    print(\"\\nCannot run GPU tests as CUDA is not available.\")\n"
   ]
  }
 ],
 "metadata": {
  "kernelspec": {
   "display_name": "Python 3 (ipykernel)",
   "language": "python",
   "name": "python3"
  },
  "language_info": {
   "codemirror_mode": {
    "name": "ipython",
    "version": 3
   },
   "file_extension": ".py",
   "mimetype": "text/x-python",
   "name": "python",
   "nbconvert_exporter": "python",
   "pygments_lexer": "ipython3",
   "version": "3.11.11"
  }
 },
 "nbformat": 4,
 "nbformat_minor": 2
}
